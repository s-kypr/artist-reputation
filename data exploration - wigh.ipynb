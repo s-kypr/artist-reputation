{
 "cells": [
  {
   "cell_type": "code",
   "execution_count": 1,
   "metadata": {},
   "outputs": [
    {
     "name": "stdout",
     "output_type": "stream",
     "text": [
      "(5483666, 10)\n"
     ]
    },
    {
     "data": {
      "text/html": [
       "<div>\n",
       "<style scoped>\n",
       "    .dataframe tbody tr th:only-of-type {\n",
       "        vertical-align: middle;\n",
       "    }\n",
       "\n",
       "    .dataframe tbody tr th {\n",
       "        vertical-align: top;\n",
       "    }\n",
       "\n",
       "    .dataframe thead th {\n",
       "        text-align: right;\n",
       "    }\n",
       "</style>\n",
       "<table border=\"1\" class=\"dataframe\">\n",
       "  <thead>\n",
       "    <tr style=\"text-align: right;\">\n",
       "      <th></th>\n",
       "      <th>qid</th>\n",
       "      <th>dob</th>\n",
       "      <th>dod</th>\n",
       "      <th>gender</th>\n",
       "      <th>ethnic_group</th>\n",
       "      <th>citizenship</th>\n",
       "      <th>place_of_birth</th>\n",
       "      <th>field_of_work</th>\n",
       "      <th>occupation</th>\n",
       "      <th>site_links</th>\n",
       "    </tr>\n",
       "  </thead>\n",
       "  <tbody>\n",
       "    <tr>\n",
       "      <th>0</th>\n",
       "      <td>Q23</td>\n",
       "      <td>1732</td>\n",
       "      <td>1799</td>\n",
       "      <td>Q6581097|</td>\n",
       "      <td>NaN</td>\n",
       "      <td>Q161885|Q30|</td>\n",
       "      <td>Q494413|</td>\n",
       "      <td>NaN</td>\n",
       "      <td>Q82955|Q189290|Q131512|Q1734662|Q294126|Q81096...</td>\n",
       "      <td>dewiki|hrwiki|uzwiki|ruwiki|plwiki|brwiki|afwi...</td>\n",
       "    </tr>\n",
       "    <tr>\n",
       "      <th>1</th>\n",
       "      <td>Q42</td>\n",
       "      <td>1952</td>\n",
       "      <td>2001</td>\n",
       "      <td>Q6581097|</td>\n",
       "      <td>Q42406|</td>\n",
       "      <td>Q145|</td>\n",
       "      <td>Q350|</td>\n",
       "      <td>NaN</td>\n",
       "      <td>Q214917|Q28389|Q6625963|Q4853732|Q18844224|Q24...</td>\n",
       "      <td>svwikiquote|frwikiquote|azwikiquote|enwikiquot...</td>\n",
       "    </tr>\n",
       "    <tr>\n",
       "      <th>2</th>\n",
       "      <td>Q1868</td>\n",
       "      <td>1868</td>\n",
       "      <td>1944</td>\n",
       "      <td>Q6581097|</td>\n",
       "      <td>NaN</td>\n",
       "      <td>Q31|</td>\n",
       "      <td>Q9005|</td>\n",
       "      <td>Q134995|Q21198|Q5962346|</td>\n",
       "      <td>Q36180|Q40348|Q182436|Q1265807|Q205375|Q10429346|</td>\n",
       "      <td>frwikisource|commonswiki|enwikisource|enwiki|d...</td>\n",
       "    </tr>\n",
       "    <tr>\n",
       "      <th>3</th>\n",
       "      <td>Q207</td>\n",
       "      <td>1946</td>\n",
       "      <td>-2147483648</td>\n",
       "      <td>Q6581097|</td>\n",
       "      <td>NaN</td>\n",
       "      <td>Q30|</td>\n",
       "      <td>Q49145|</td>\n",
       "      <td>NaN</td>\n",
       "      <td>Q82955|Q15982858|Q18814623|Q1028181|Q14089670|...</td>\n",
       "      <td>commonswiki|kowikisource|zhwikisource|enwikiso...</td>\n",
       "    </tr>\n",
       "    <tr>\n",
       "      <th>4</th>\n",
       "      <td>Q297</td>\n",
       "      <td>1599</td>\n",
       "      <td>1660</td>\n",
       "      <td>Q6581097|</td>\n",
       "      <td>NaN</td>\n",
       "      <td>Q39|Q600093|</td>\n",
       "      <td>Q8717|</td>\n",
       "      <td>NaN</td>\n",
       "      <td>Q1028181|</td>\n",
       "      <td>enwiki|itwiki|abwiki|afwiki|alswiki|anwiki|arw...</td>\n",
       "    </tr>\n",
       "  </tbody>\n",
       "</table>\n",
       "</div>"
      ],
      "text/plain": [
       "     qid   dob         dod     gender ethnic_group   citizenship  \\\n",
       "0    Q23  1732        1799  Q6581097|          NaN  Q161885|Q30|   \n",
       "1    Q42  1952        2001  Q6581097|      Q42406|         Q145|   \n",
       "2  Q1868  1868        1944  Q6581097|          NaN          Q31|   \n",
       "3   Q207  1946 -2147483648  Q6581097|          NaN          Q30|   \n",
       "4   Q297  1599        1660  Q6581097|          NaN  Q39|Q600093|   \n",
       "\n",
       "  place_of_birth             field_of_work  \\\n",
       "0       Q494413|                       NaN   \n",
       "1          Q350|                       NaN   \n",
       "2         Q9005|  Q134995|Q21198|Q5962346|   \n",
       "3        Q49145|                       NaN   \n",
       "4         Q8717|                       NaN   \n",
       "\n",
       "                                          occupation  \\\n",
       "0  Q82955|Q189290|Q131512|Q1734662|Q294126|Q81096...   \n",
       "1  Q214917|Q28389|Q6625963|Q4853732|Q18844224|Q24...   \n",
       "2  Q36180|Q40348|Q182436|Q1265807|Q205375|Q10429346|   \n",
       "3  Q82955|Q15982858|Q18814623|Q1028181|Q14089670|...   \n",
       "4                                          Q1028181|   \n",
       "\n",
       "                                          site_links  \n",
       "0  dewiki|hrwiki|uzwiki|ruwiki|plwiki|brwiki|afwi...  \n",
       "1  svwikiquote|frwikiquote|azwikiquote|enwikiquot...  \n",
       "2  frwikisource|commonswiki|enwikisource|enwiki|d...  \n",
       "3  commonswiki|kowikisource|zhwikisource|enwikiso...  \n",
       "4  enwiki|itwiki|abwiki|afwiki|alswiki|anwiki|arw...  "
      ]
     },
     "execution_count": 1,
     "metadata": {},
     "output_type": "execute_result"
    }
   ],
   "source": [
    "import pandas as pd\n",
    "\n",
    "df = pd.read_csv(\"data/gender-index-data-2019-11-04.csv\") \n",
    "print(df.shape)\n",
    "df.head()"
   ]
  },
  {
   "cell_type": "code",
   "execution_count": 2,
   "metadata": {},
   "outputs": [
    {
     "data": {
      "text/plain": [
       "(1676922, 10)"
      ]
     },
     "execution_count": 2,
     "metadata": {},
     "output_type": "execute_result"
    }
   ],
   "source": [
    "# take only those that have a wikipedia page in english\n",
    "df = df[df.site_links.str.contains(\"enwiki\", na=False)]\n",
    "df.shape"
   ]
  },
  {
   "cell_type": "code",
   "execution_count": 3,
   "metadata": {},
   "outputs": [
    {
     "data": {
      "text/plain": [
       "(1287273, 10)"
      ]
     },
     "execution_count": 3,
     "metadata": {},
     "output_type": "execute_result"
    }
   ],
   "source": [
    "# select people born after 1850 - the date of the first person of the club 27\n",
    "df = df[df.dob > 1850]\n",
    "df.shape"
   ]
  },
  {
   "cell_type": "markdown",
   "metadata": {},
   "source": [
    "## Select the artists using the dictionary"
   ]
  },
  {
   "cell_type": "code",
   "execution_count": 4,
   "metadata": {},
   "outputs": [],
   "source": [
    "# get a list from the dictionary of all the Q-occupation-codes that belong to artists\n",
    "import json\n",
    "\n",
    "# used to read gender and occupations dictionaries\n",
    "def read_dictionary(path):\n",
    "    with open(path) as json_file:\n",
    "        line = json_file.readline()\n",
    "        dictionary = json.loads(line)\n",
    "    return dictionary"
   ]
  },
  {
   "cell_type": "code",
   "execution_count": 5,
   "metadata": {},
   "outputs": [
    {
     "data": {
      "text/plain": [
       "{'Q14373094': 'Sports',\n",
       " 'Q10349745': 'Sports',\n",
       " 'Q42603': 'Religion',\n",
       " 'Q118865': 'Artist',\n",
       " 'Q28389': 'Artist',\n",
       " 'Q3455803': 'Artist',\n",
       " 'Q3621491': 'Scientist',\n",
       " 'Q201788': 'Social Sciences',\n",
       " 'Q2133309': 'Artist',\n",
       " 'Q488111': 'Artist',\n",
       " 'Q43845': 'Business & Law',\n",
       " 'Q593644': 'Scientist',\n",
       " 'Q753110': 'Artist',\n",
       " 'Q1925963': 'Artist',\n",
       " 'Q48146261': 'Artist',\n",
       " 'Q11900058': 'Scientist',\n",
       " 'Q11338576': 'Sports',\n",
       " 'Q13382566': 'Sports',\n",
       " 'Q899758': 'Artist',\n",
       " 'Q212980': 'Scientist',\n",
       " 'Q18074503': 'Artist',\n",
       " 'Q2066131': 'Sports',\n",
       " 'Q1281618': 'Artist',\n",
       " 'Q81096': 'Scientist',\n",
       " 'Q33231': 'Artist',\n",
       " 'Q19204627': 'Sports',\n",
       " 'Q948329': 'Artist',\n",
       " 'Q13365117': 'Sports',\n",
       " 'Q482980': 'Artist',\n",
       " 'Q3282637': 'Artist',\n",
       " 'Q486748': 'Artist',\n",
       " 'Q13382576': 'Sports',\n",
       " 'Q715301': 'Artist',\n",
       " 'Q82955': 'Politics',\n",
       " 'Q386854': 'Artist',\n",
       " 'Q11063': 'Scientist',\n",
       " 'Q15977509': 'Artist',\n",
       " 'Q644687': 'Artist',\n",
       " 'Q11513337': 'Sports',\n",
       " 'Q15627169': 'Politics',\n",
       " 'Q19729565': 'Artist',\n",
       " 'Q2526255': 'Artist',\n",
       " 'Q584301': 'Artist',\n",
       " 'Q4773904': 'Scientist',\n",
       " 'Q15981151': 'Artist',\n",
       " 'Q36180': 'Artist',\n",
       " 'Q5137571': 'Sports',\n",
       " 'Q5322166': 'Artist',\n",
       " 'Q2643890': 'Artist',\n",
       " 'Q11481802': 'Artist',\n",
       " 'Q1259917': 'Artist',\n",
       " 'Q131524': 'Business & Law',\n",
       " 'Q3400985': 'Education',\n",
       " 'Q183945': 'Artist',\n",
       " 'Q16010345': 'Artist',\n",
       " 'Q739437': 'Artist',\n",
       " 'Q14089670': 'Sports',\n",
       " 'Q4610556': 'Model',\n",
       " 'Q544972': 'Artist',\n",
       " 'Q12800682': 'Artist',\n",
       " 'Q4263842': 'Social Sciences',\n",
       " 'Q855091': 'Artist',\n",
       " 'Q170790': 'Scientist',\n",
       " 'Q9648008': 'Artist',\n",
       " 'Q188094': 'Business & Law',\n",
       " 'Q2259451': 'Artist',\n",
       " 'Q483501': 'Artist',\n",
       " 'Q1234713': 'Religion',\n",
       " 'Q40348': 'Business & Law',\n",
       " 'Q805253': 'Artist',\n",
       " 'Q11496048': 'Artist',\n",
       " 'Q222344': 'Artist',\n",
       " 'Q177220': 'Artist',\n",
       " 'Q2478141': 'Politics',\n",
       " 'Q39631': 'Scientist',\n",
       " 'Q49757': 'Artist',\n",
       " 'Q11774891': 'Sports',\n",
       " 'Q1075651': 'Artist',\n",
       " 'Q16003954': 'Artist',\n",
       " 'Q169470': 'Scientist',\n",
       " 'Q10871364': 'Sports',\n",
       " 'Q12299841': 'Sports',\n",
       " 'Q12377274': 'Artist',\n",
       " 'Q13381863': 'Sports',\n",
       " 'Q947873': 'Artist',\n",
       " 'Q189290': 'Military',\n",
       " 'Q4853732': 'Artist',\n",
       " 'Q2309784': 'Sports',\n",
       " 'Q10798782': 'Artist',\n",
       " 'Q1162163': 'Artist',\n",
       " 'Q24067349': 'Artist',\n",
       " 'Q12902372': 'Artist',\n",
       " 'Q4964182': 'Social Sciences',\n",
       " 'Q42973': 'Artist',\n",
       " 'Q14467526': 'Social Sciences',\n",
       " 'Q15117302': 'Sports',\n",
       " 'Q806798': 'Business & Law',\n",
       " 'Q937857': 'Sports',\n",
       " 'Q10774753': 'Artist',\n",
       " 'Q13219587': 'Sports',\n",
       " 'Q20870256': 'Artist',\n",
       " 'Q1235146': 'Artist',\n",
       " 'Q1414443': 'Artist',\n",
       " 'Q158852': 'Artist',\n",
       " 'Q2722764': 'Artist',\n",
       " 'Q82594': 'Scientist',\n",
       " 'Q2490358': 'Artist',\n",
       " 'Q639669': 'Artist',\n",
       " 'Q2374149': 'Scientist',\n",
       " 'Q5371902': 'Artist',\n",
       " 'Q10833314': 'Sports',\n",
       " 'Q19841381': 'Sports',\n",
       " 'Q250867': 'Religion',\n",
       " 'Q10800557': 'Artist',\n",
       " 'Q15958185': 'Sports',\n",
       " 'Q1028181': 'Artist',\n",
       " 'Q21477194': 'Artist',\n",
       " 'Q17505902': 'Artist',\n",
       " 'Q5716684': 'Artist',\n",
       " 'Q11386386': 'Artist',\n",
       " 'Q245068': 'Artist',\n",
       " 'Q36834': 'Artist',\n",
       " 'Q13414980': 'Sports',\n",
       " 'Q266569': 'Artist',\n",
       " 'Q1622272': 'Education',\n",
       " 'Q3501317': 'Artist',\n",
       " 'Q935666': 'Artist',\n",
       " 'Q214917': 'Artist',\n",
       " 'Q2405480': 'Artist',\n",
       " 'Q6168364': 'Artist',\n",
       " 'Q805221': 'Artist',\n",
       " 'Q18216771': 'Artist',\n",
       " 'Q4351403': 'Artist',\n",
       " 'Q628099': 'Sports',\n",
       " 'Q1114448': 'Artist',\n",
       " 'Q1595570': 'Artist',\n",
       " 'Q16145150': 'Education',\n",
       " 'Q488205': 'Artist',\n",
       " 'Q11303721': 'Sports',\n",
       " 'Q16533': 'Business & Law',\n",
       " 'Q11914886': 'Artist',\n",
       " 'Q186370': 'Artist',\n",
       " 'Q2865819': 'Artist',\n",
       " 'Q15296811': 'Artist',\n",
       " 'Q7622988': 'Artist',\n",
       " 'Q2865798': 'Artist',\n",
       " 'Q193391': 'Politics',\n",
       " 'Q10843402': 'Sports',\n",
       " 'Q205375': 'Scientist',\n",
       " 'Q15980158': 'Artist',\n",
       " 'Q1198887': 'Artist',\n",
       " 'Q19595175': 'Sports',\n",
       " 'Q3391743': 'Artist',\n",
       " 'Q50989815': 'Artist',\n",
       " 'Q627325': 'Artist',\n",
       " 'Q6625963': 'Artist',\n",
       " 'Q47064': 'Military',\n",
       " 'Q1930187': 'Social Sciences',\n",
       " 'Q2205972': 'Artist',\n",
       " 'Q765778': 'Artist',\n",
       " 'Q18844224': 'Artist',\n",
       " 'Q1415090': 'Artist',\n",
       " 'Q33999': 'Artist',\n",
       " 'Q3665646': 'Sports',\n",
       " 'Q37226': 'Education',\n",
       " 'Q3127709': 'Artist',\n",
       " 'Q1863064': 'Artist',\n",
       " 'Q333634': 'Social Sciences'}"
      ]
     },
     "execution_count": 5,
     "metadata": {},
     "output_type": "execute_result"
    }
   ],
   "source": [
    "LOCAL_PATH = \"./data/\"\n",
    "QCODE_FIELD_DICT = LOCAL_PATH + \"dict_wikicode_to_field.json\"\n",
    "\n",
    "code_to_field = read_dictionary(QCODE_FIELD_DICT)  # Q123 -> Artist\n",
    "code_to_field"
   ]
  },
  {
   "cell_type": "code",
   "execution_count": 6,
   "metadata": {},
   "outputs": [
    {
     "data": {
      "text/plain": [
       "list"
      ]
     },
     "execution_count": 6,
     "metadata": {},
     "output_type": "execute_result"
    }
   ],
   "source": [
    "artist_codes = []\n",
    "for code,field in code_to_field.items():\n",
    "    if field == 'Artist':\n",
    "        artist_codes.append(code)\n",
    "\n",
    "type(artist_codes)"
   ]
  },
  {
   "cell_type": "code",
   "execution_count": 7,
   "metadata": {},
   "outputs": [],
   "source": [
    "df['occupation'] = df['occupation'].apply(lambda d: d if isinstance(d, str) else \"\")\n",
    "df['occupation'] = df['occupation'].str.split('|').map(lambda x: x[:-1])"
   ]
  },
  {
   "cell_type": "code",
   "execution_count": 8,
   "metadata": {},
   "outputs": [],
   "source": [
    "# filter the artists \n",
    "art_mask = df.occupation.apply(lambda occupation: any(x in occupation for x in artist_codes))\n",
    "df_artists = df[art_mask]\n"
   ]
  },
  {
   "cell_type": "code",
   "execution_count": 9,
   "metadata": {},
   "outputs": [
    {
     "data": {
      "text/plain": [
       "(333388, 10)"
      ]
     },
     "execution_count": 9,
     "metadata": {},
     "output_type": "execute_result"
    }
   ],
   "source": [
    "df_artists.shape"
   ]
  },
  {
   "cell_type": "markdown",
   "metadata": {},
   "source": [
    "## plot the histogram of their age of death"
   ]
  },
  {
   "cell_type": "code",
   "execution_count": 10,
   "metadata": {},
   "outputs": [
    {
     "name": "stderr",
     "output_type": "stream",
     "text": [
      "/home/sofia/Anaconda3/lib/python3.7/site-packages/ipykernel_launcher.py:3: SettingWithCopyWarning: \n",
      "A value is trying to be set on a copy of a slice from a DataFrame.\n",
      "Try using .loc[row_indexer,col_indexer] = value instead\n",
      "\n",
      "See the caveats in the documentation: http://pandas.pydata.org/pandas-docs/stable/user_guide/indexing.html#returning-a-view-versus-a-copy\n",
      "  This is separate from the ipykernel package so we can avoid doing imports until\n"
     ]
    },
    {
     "data": {
      "text/plain": [
       "(134019, 11)"
      ]
     },
     "execution_count": 10,
     "metadata": {},
     "output_type": "execute_result"
    }
   ],
   "source": [
    "# select the artists who are dead and compute their age\n",
    "df_dead_artists = df_artists[df_artists.dod > 0]\n",
    "df_dead_artists[\"age\"] = df_dead_artists.dod - df_dead_artists.dob\n",
    "df_dead_artists.shape"
   ]
  },
  {
   "cell_type": "code",
   "execution_count": 11,
   "metadata": {},
   "outputs": [
    {
     "data": {
      "text/plain": [
       "(134003, 11)"
      ]
     },
     "execution_count": 11,
     "metadata": {},
     "output_type": "execute_result"
    }
   ],
   "source": [
    "# remove artists with negative age - error in the data (dob > dod)\n",
    "df_dead_artists = df_dead_artists[df_dead_artists.age > 0]\n",
    "df_dead_artists.shape"
   ]
  },
  {
   "cell_type": "code",
   "execution_count": 13,
   "metadata": {},
   "outputs": [
    {
     "data": {
      "image/png": "[encoded data removed]",
      "text/plain": [
       "<Figure size 432x288 with 1 Axes>"
      ]
     },
     "metadata": {
      "needs_background": "light"
     },
     "output_type": "display_data"
    }
   ],
   "source": [
    "import matplotlib.pyplot as plt\n",
    "\n",
    "plt.hist(df_dead_artists.age, bins=120, color='y', alpha=0.65)\n",
    "\n",
    "# Add title and axis names\n",
    "plt.title('Dead artists')\n",
    "plt.xlabel('age')\n",
    "plt.ylabel('frequency')\n",
    "\n",
    "mean_age = df_dead_artists.age.mean()\n",
    "plt.axvline(mean_age, color='k', linestyle='dashed', linewidth=1)\n",
    "\n",
    "min_ylim, max_ylim = plt.ylim()\n",
    "plt.text(mean_age*1.2, max_ylim*0.9, 'Mean: {:.2f}'.format(mean_age));\n",
    "\n",
    "plt.savefig(\"dead.png\", bbox_inches=0, orientation='landscape', pad_inches=0.1)"
   ]
  },
  {
   "cell_type": "code",
   "execution_count": 26,
   "metadata": {},
   "outputs": [
    {
     "data": {
      "text/plain": [
       "list"
      ]
     },
     "execution_count": 26,
     "metadata": {},
     "output_type": "execute_result"
    }
   ],
   "source": [
    "# try only for the musicians\n",
    "QCODE_MUSIC_DICT = LOCAL_PATH + \"dict_wikicode_to_musician.json\"\n",
    "\n",
    "code_to_field = read_dictionary(QCODE_MUSIC_DICT)  # Q123 -> musician\n",
    "music_codes = []\n",
    "for code,field in code_to_field.items():\n",
    "    if field == 'Musician':\n",
    "        music_codes.append(code)\n",
    "\n",
    "type(music_codes)"
   ]
  },
  {
   "cell_type": "code",
   "execution_count": 27,
   "metadata": {},
   "outputs": [],
   "source": [
    "# filter the musicians \n",
    "musicians_mask = df_dead_artists.occupation.apply(lambda occupation: any(x in occupation for x in music_codes))\n",
    "df_dead_musicians = df_dead_artists[musicians_mask]"
   ]
  },
  {
   "cell_type": "code",
   "execution_count": 28,
   "metadata": {},
   "outputs": [
    {
     "data": {
      "text/plain": [
       "(30520, 11)"
      ]
     },
     "execution_count": 28,
     "metadata": {},
     "output_type": "execute_result"
    }
   ],
   "source": [
    "df_dead_musicians.shape"
   ]
  },
  {
   "cell_type": "code",
   "execution_count": 36,
   "metadata": {},
   "outputs": [
    {
     "data": {
      "image/png": "[encoded data removed]",
      "text/plain": [
       "<Figure size 432x288 with 1 Axes>"
      ]
     },
     "metadata": {
      "needs_background": "light"
     },
     "output_type": "display_data"
    }
   ],
   "source": [
    "plt.hist(df_dead_musicians.age, bins=118, color='c', alpha=0.65)\n",
    "\n",
    "# Add title and axis names\n",
    "plt.title('Dead musicians')\n",
    "plt.xlabel('age')\n",
    "plt.ylabel('frequency')\n",
    "\n",
    "mean_age = df_dead_musicians.age.mean()\n",
    "plt.axvline(mean_age, color='k', linestyle='dashed', linewidth=1)\n",
    "\n",
    "min_ylim, max_ylim = plt.ylim()\n",
    "plt.text(mean_age*1.2, max_ylim*0.9, 'Mean: {:.2f}'.format(mean_age));\n",
    "\n",
    "plt.savefig(\"dead.png\", bbox_inches=0, orientation='landscape', pad_inches=0.1)"
   ]
  },
  {
   "cell_type": "markdown",
   "metadata": {},
   "source": [
    "## Plot for all the different art occupations \n",
    "\n",
    "- literature, visual, scultpure, performance, music"
   ]
  },
  {
   "cell_type": "code",
   "execution_count": 38,
   "metadata": {},
   "outputs": [
    {
     "data": {
      "text/html": [
       "<div>\n",
       "<style scoped>\n",
       "    .dataframe tbody tr th:only-of-type {\n",
       "        vertical-align: middle;\n",
       "    }\n",
       "\n",
       "    .dataframe tbody tr th {\n",
       "        vertical-align: top;\n",
       "    }\n",
       "\n",
       "    .dataframe thead th {\n",
       "        text-align: right;\n",
       "    }\n",
       "</style>\n",
       "<table border=\"1\" class=\"dataframe\">\n",
       "  <thead>\n",
       "    <tr style=\"text-align: right;\">\n",
       "      <th></th>\n",
       "      <th>Unnamed: 0</th>\n",
       "      <th>wikicode</th>\n",
       "      <th>occupation</th>\n",
       "      <th>art_field</th>\n",
       "    </tr>\n",
       "  </thead>\n",
       "  <tbody>\n",
       "    <tr>\n",
       "      <th>0</th>\n",
       "      <td>0</td>\n",
       "      <td>Q118865</td>\n",
       "      <td>clarinetist</td>\n",
       "      <td>music</td>\n",
       "    </tr>\n",
       "    <tr>\n",
       "      <th>1</th>\n",
       "      <td>1</td>\n",
       "      <td>Q28389</td>\n",
       "      <td>screenwriter</td>\n",
       "      <td>literature</td>\n",
       "    </tr>\n",
       "    <tr>\n",
       "      <th>2</th>\n",
       "      <td>2</td>\n",
       "      <td>Q3455803</td>\n",
       "      <td>director</td>\n",
       "      <td>performance</td>\n",
       "    </tr>\n",
       "    <tr>\n",
       "      <th>3</th>\n",
       "      <td>3</td>\n",
       "      <td>Q2133309</td>\n",
       "      <td>interior designer</td>\n",
       "      <td>sculpture</td>\n",
       "    </tr>\n",
       "    <tr>\n",
       "      <th>4</th>\n",
       "      <td>4</td>\n",
       "      <td>Q488111</td>\n",
       "      <td>pornographic actor</td>\n",
       "      <td>performance</td>\n",
       "    </tr>\n",
       "  </tbody>\n",
       "</table>\n",
       "</div>"
      ],
      "text/plain": [
       "   Unnamed: 0  wikicode          occupation    art_field\n",
       "0           0   Q118865         clarinetist        music\n",
       "1           1    Q28389        screenwriter   literature\n",
       "2           2  Q3455803            director  performance\n",
       "3           3  Q2133309   interior designer    sculpture\n",
       "4           4   Q488111  pornographic actor  performance"
      ]
     },
     "execution_count": 38,
     "metadata": {},
     "output_type": "execute_result"
    }
   ],
   "source": [
    "df_art_occupations = pd.read_csv('./data/art_occupations.csv', sep='\\t')\n",
    "df_art_occupations.head()"
   ]
  },
  {
   "cell_type": "code",
   "execution_count": 40,
   "metadata": {},
   "outputs": [
    {
     "data": {
      "text/plain": [
       "['music', 'literature', 'performance', 'sculpture', 'visual']"
      ]
     },
     "execution_count": 40,
     "metadata": {},
     "output_type": "execute_result"
    }
   ],
   "source": [
    "art_fields = list(df_art_occupations.art_field.unique())"
   ]
  },
  {
   "cell_type": "code",
   "execution_count": 47,
   "metadata": {},
   "outputs": [
    {
     "name": "stdout",
     "output_type": "stream",
     "text": [
      "music (30661, 11)\n",
      "literature (48940, 11)\n",
      "performance (39045, 11)\n",
      "sculpture (9609, 11)\n",
      "visual (25729, 11)\n"
     ]
    }
   ],
   "source": [
    "dict_art_field_df = {}\n",
    "\n",
    "for art_field in art_fields:\n",
    "    \n",
    "    # filter the artists according to their category\n",
    "    \n",
    "    # select the wikicodes corresponding to each art field\n",
    "    art_codes = df_art_occupations[df_art_occupations.art_field == art_field].wikicode.tolist()\n",
    "    \n",
    "    # filter the artists according to their occupation\n",
    "    art_mask = df_dead_artists.occupation.apply(lambda occupation: any(x in occupation for x in art_codes))\n",
    "    df_dead = df_dead_artists[art_mask]\n",
    "    \n",
    "    dict_art_field_df[art_field] = df_dead\n",
    "    \n",
    "    print(art_field, df_dead.shape)"
   ]
  },
  {
   "cell_type": "code",
   "execution_count": 107,
   "metadata": {},
   "outputs": [
    {
     "data": {
      "image/png": "[encoded data removed]",
      "text/plain": [
       "<Figure size 1080x1080 with 5 Axes>"
      ]
     },
     "metadata": {
      "needs_background": "light"
     },
     "output_type": "display_data"
    }
   ],
   "source": [
    "###### plot + save their histogram with age distributions\n",
    "colors = ['b', 'g', 'c', 'm', 'y']\n",
    "bins = {'music': 118, 'literature': 118, 'performance': 120, 'sculpture': 105, 'visual': 118}\n",
    "\n",
    "fig, axs = plt.subplots(5, figsize=(15, 15))\n",
    "fig.suptitle('Age of artists death according to their field')\n",
    "\n",
    "for idx, art in enumerate(art_fields):\n",
    "    axs[idx].hist(dict_art_field_df[art].age, bins=bins[art], color=colors[idx], alpha=0.65)\n",
    "    axs[idx].set_title('Deaths in '+str(art))\n",
    "    axs[idx].set_xlabel('age')\n",
    "    axs[idx].set_ylabel('frequency')\n",
    "    \n",
    "    mean_age = dict_art_field_df[art].age.mean()\n",
    "    axs[idx].axvline(mean_age, color='k', linestyle='dashed', linewidth=1)\n",
    "\n",
    "    min_ylim, max_ylim = plt.ylim()\n",
    "#     axs[idx].text(mean_age*1.2, max_ylim*0.9, 'Mean: {:.2f}'.format(mean_age));\n",
    "    \n",
    "    # these are matplotlib.patch.Patch properties\n",
    "    props = dict(boxstyle='round', facecolor='wheat', alpha=0.5)\n",
    "\n",
    "    # place a text box in upper left in axes coords\n",
    "    axs[idx].text(0.76, 0.9, 'Mean: {:.2f}'.format(mean_age), transform=axs[idx].transAxes, fontsize=14,\n",
    "            verticalalignment='top', bbox=props)\n",
    "\n",
    "\n",
    "plt.tight_layout(pad=3.0)"
   ]
  }
 ],
 "metadata": {
  "kernelspec": {
   "display_name": "Python 3",
   "language": "python",
   "name": "python3"
  },
  "language_info": {
   "codemirror_mode": {
    "name": "ipython",
    "version": 3
   },
   "file_extension": ".py",
   "mimetype": "text/x-python",
   "name": "python",
   "nbconvert_exporter": "python",
   "pygments_lexer": "ipython3",
   "version": "3.7.3"
  }
 },
 "nbformat": 4,
 "nbformat_minor": 2
}
